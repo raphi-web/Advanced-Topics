{
 "cells": [
  {
   "cell_type": "code",
   "execution_count": null,
   "metadata": {},
   "outputs": [],
   "source": [
    "import numpy as np\n",
    "import my_geometries as mygeom \n",
    "from pointcloud import Pointcloud\n",
    "import osm \n",
    "import geopandas as gpd\n",
    "import matplotlib.pyplot as plt\n",
    "from timer import Timer\n",
    "from shapely import geometry as shapely_geom\n",
    "import test_polygons\n",
    "import osmnx as ox\n",
    "import networkx as nx\n",
    "import pickle\n"
   ]
  },
  {
   "cell_type": "code",
   "execution_count": null,
   "metadata": {},
   "outputs": [],
   "source": [
    "# point parameter random points A\n",
    "n_a = 100 # number of points\n",
    "xmin_a = 0\n",
    "xmax_a = 100\n",
    "ymin_a = 0\n",
    "ymax_a = 100\n",
    "\n",
    "# point parameter random points B\n",
    "n_b = 70 # number of points\n",
    "xmin_b = 0\n",
    "xmax_b = 100\n",
    "ymin_b = 0\n",
    "ymax_b = 100"
   ]
  },
  {
   "cell_type": "code",
   "execution_count": null,
   "metadata": {},
   "outputs": [],
   "source": [
    "pointcloud_a = Pointcloud.gen_random_points(n=n_a,xmin=xmin_a,xmax=xmax_a,ymin=ymin_a,ymax=ymax_a)"
   ]
  },
  {
   "cell_type": "code",
   "execution_count": null,
   "metadata": {},
   "outputs": [],
   "source": [
    "with Timer(\"Execution time closest pair:\"):\n",
    "    dist ,(pa,pb) = pointcloud_a.closest_pair()\n",
    "print(f\"Distance: {dist}\\nPoints:\\n{pa},{pb}\")"
   ]
  },
  {
   "cell_type": "code",
   "execution_count": null,
   "metadata": {},
   "outputs": [],
   "source": [
    "xx_a = pointcloud_a.as_array()[:,0]\n",
    "yy_a = pointcloud_a.as_array()[:,1]\n",
    "\n",
    "fig,(ax1,ax2) = plt.subplots(ncols=2,figsize=(16,9))\n",
    "ax1.axis('equal')\n",
    "ax2.axis('equal')\n",
    "ax1.set_xlim(xmin_a,xmax_a)\n",
    "ax1.set_ylim(ymin_a,ymax_a)\n",
    "ax1.scatter(xx_a,yy_a, label=\"Points of 'pointcloud_a'\")\n",
    "ax1.scatter([pa.x,pb.x],[pa.y,pb.y],s=50, label=\"Closest pair of points\")\n",
    "ax1.set_title(\"Overview all points in 'pointcloud_a'\")\n",
    "ax1.legend()\n",
    "\n",
    "center_x = (pa.x + pb.x)/2\n",
    "center_y = (pa.y + pb.y)/2\n",
    "# zoom is relative to the distance, in this case 5 times the distance\n",
    "# of the closest pair\n",
    "zoom = 5\n",
    "(xmin,xmax) = (center_x - dist * zoom, center_x + dist * zoom)\n",
    "(ymin,ymax) = (center_y - dist * zoom, center_y + dist * zoom)\n",
    "ax2.set_xlim(xmin,xmax)\n",
    "ax2.set_ylim(ymin,ymax)\n",
    "ax2.scatter(xx_a,yy_a)\n",
    "ax2.plot([pa.x,pb.x],[pa.y,pb.y],c=\"black\")\n",
    "ax2.scatter([pa.x],[pa.y],label=\"Point-A\",s=150)\n",
    "ax2.scatter([pb.x],[pb.y], label=\"Point-B\",s=150)\n",
    "ax2.set_title(\"Zoomed to the closest pair of points\")\n",
    "ax2.legend()\n",
    "plt.show()"
   ]
  },
  {
   "cell_type": "code",
   "execution_count": null,
   "metadata": {},
   "outputs": [],
   "source": [
    "pointcloud_b = Pointcloud.gen_random_points(n_b,xmin_b,xmax_b,ymin_b,ymax_b)\n",
    "# kd tree approach\n",
    "with Timer(\"Execution Time KD-Tree-Nearest-Neighbour:\"):\n",
    "    points_kdtree = pointcloud_a.k_nearest_neighbour_kdtree(pointcloud_b)\n",
    "# brutal force approach\n",
    "with Timer(\"Execution Time Brutal-Force-Nearest-Neighbour:\"):\n",
    "    points_bf = pointcloud_a.k_nearest_neighbour_bf(pointcloud_b)\n",
    "assert points_kdtree == points_bf"
   ]
  },
  {
   "cell_type": "code",
   "execution_count": null,
   "metadata": {},
   "outputs": [],
   "source": [
    "xx_b = [p.x for p in points_kdtree]\n",
    "yy_b = [p.y for p in points_kdtree]\n",
    "\n",
    "fig,ax = plt.subplots(ncols=1,figsize=(9,9))\n",
    "ax.axis('equal')\n",
    "ax.set_xlim(min(xmin_a,xmin_b),max(xmax_a,xmax_b))\n",
    "ax.set_ylim(min(ymin_a,ymin_b),max(ymax_a,ymax_b))\n",
    "ax.scatter(xx_a,yy_a, label=\"Points of 'pointcloud_a'\")\n",
    "ax.scatter(xx_b,yy_b, label=\"Points of 'pointcloud_b'\")\n",
    "\n",
    "for  pa,pb in zip(pointcloud_a.points,points_kdtree):\n",
    "    plt.plot([pa.x,pb.x],[pa.y,pb.y],c=\"black\",alpha=0.5)\n",
    "\n",
    "ax.set_title(\"K-Nearest Neighbours Points'pointcloud_a to 'point_cloud_b'\")\n",
    "ax.legend()\n",
    "plt.show()"
   ]
  },
  {
   "cell_type": "code",
   "execution_count": null,
   "metadata": {},
   "outputs": [],
   "source": [
    "bus_stop_gdf = osm.get_bus_stops(\"Graz\")\n",
    "building_gdf = osm.get_buildings(\"Graz\")"
   ]
  },
  {
   "cell_type": "code",
   "execution_count": null,
   "metadata": {},
   "outputs": [],
   "source": [
    "bus_stop_gdf.head(2)"
   ]
  },
  {
   "cell_type": "code",
   "execution_count": null,
   "metadata": {},
   "outputs": [],
   "source": [
    "building_gdf.head(2)"
   ]
  },
  {
   "cell_type": "code",
   "execution_count": null,
   "metadata": {},
   "outputs": [],
   "source": [
    "bus_stop_gdf_new = bus_stop_gdf.reset_index()\n",
    "building_gdf_new = building_gdf.reset_index()\n",
    "bus_stop_gdf_new = bus_stop_gdf_new[bus_stop_gdf_new[\"element_type\"] == \"node\"]\n",
    "building_gdf_new = building_gdf_new[building_gdf_new[\"element_type\"] != \"node\"]"
   ]
  },
  {
   "cell_type": "code",
   "execution_count": null,
   "metadata": {},
   "outputs": [],
   "source": [
    "ax = building_gdf_new.plot(figsize=(16,16),color=\"yellow\")\n",
    "ax.set_facecolor(\"black\") # better visibility\n",
    "ax.set_title(\"Buildings in Graz downloaded from OpenStreetMap\")\n",
    "plt.show()"
   ]
  },
  {
   "cell_type": "code",
   "execution_count": null,
   "metadata": {},
   "outputs": [],
   "source": [
    "\n",
    "bus_stop_gdf_new_reprojected = bus_stop_gdf_new.copy(True)\n",
    "building_gdf_new_reprojected = building_gdf_new.copy(True)\n",
    "building_gdf_new_reprojected.drop_duplicates(subset=['geometry'])\n",
    "bus_stop_gdf_new_reprojected.geometry = bus_stop_gdf_new_reprojected.geometry.to_crs(\"EPSG:32633\")\n",
    "building_gdf_new_reprojected.geometry = building_gdf_new_reprojected.geometry.to_crs(\"EPSG:32633\")\n",
    "\n",
    "print(\"Old Coordinates: \",bus_stop_gdf_new.geometry[0])\n",
    "print(\"New Coordinates: \",bus_stop_gdf_new_reprojected.geometry[0])"
   ]
  },
  {
   "cell_type": "code",
   "execution_count": null,
   "metadata": {},
   "outputs": [],
   "source": [
    "# I made my own polygon class to compute the centroids\n",
    "# but it does not support multypolygons and polygons with holes\n",
    "instances_mypolygon = []\n",
    "instances_shapely_polygon = []\n",
    "for geom in building_gdf_new_reprojected.geometry:\n",
    "    try:\n",
    "        poly = mygeom.Polygon.from_wkt(geom.wkt)\n",
    "        instances_mypolygon.append(poly)\n",
    "    except Exception as e:\n",
    "        instances_shapely_polygon.append(geom)\n",
    "        continue\n",
    "\n",
    "print(f\"Instances of my own Polygon Type: {len(instances_mypolygon)}\",f\"|| Instances of  Shapely-Polygon Type: {len(instances_shapely_polygon)}\")"
   ]
  },
  {
   "cell_type": "code",
   "execution_count": null,
   "metadata": {},
   "outputs": [],
   "source": [
    "centroids_by_my_polygon = [poly.centroid() for poly in instances_mypolygon]\n",
    "centroids_by_shapely = [poly.centroid for poly in instances_shapely_polygon]"
   ]
  },
  {
   "cell_type": "code",
   "execution_count": null,
   "metadata": {},
   "outputs": [],
   "source": [
    "coors_mypolygon_class = np.array([[p.x,p.y] for p in centroids_by_my_polygon ])\n",
    "ax = gpd.GeoSeries([shapely_geom.Point(i) for i in coors_mypolygon_class]).plot(figsize=(7,7))\n",
    "building_gdf_new_reprojected.boundary.plot(ax=ax)\n",
    "center_x = coors_mypolygon_class[:,0].min() + coors_mypolygon_class[:,0].max()\n",
    "center_y = coors_mypolygon_class[:,1].min() + coors_mypolygon_class[:,1].max()\n",
    "center_x /= 2\n",
    "center_y /= 2\n",
    "ax.axis('equal')\n",
    "ax.set_xlim(center_x,center_x+100)\n",
    "ax.set_ylim(center_y,center_y+100)\n",
    "ax.set_title(\"Computed Centroids\")"
   ]
  },
  {
   "cell_type": "code",
   "execution_count": null,
   "metadata": {},
   "outputs": [],
   "source": [
    "building_centroids = np.concatenate([coors_mypolygon_class, np.array([[p.x,p.y] for p in centroids_by_shapely])])\n",
    "print(\"Total number of buildings: \",len(building_centroids))"
   ]
  },
  {
   "cell_type": "code",
   "execution_count": null,
   "metadata": {},
   "outputs": [],
   "source": [
    "bus_station_points = np.array([[coor.x,coor.y] for coor in bus_stop_gdf_new_reprojected.geometry])\n",
    "bus_station_pointcloud = Pointcloud(bus_station_points[:,0], bus_station_points[:,1])\n",
    "\n",
    "building_pointcloud = Pointcloud(building_centroids[:,0], building_centroids[:,1])"
   ]
  },
  {
   "cell_type": "code",
   "execution_count": null,
   "metadata": {},
   "outputs": [],
   "source": [
    "with Timer(\"Execution time buildings and bus-stations, brutal-force:\"):\n",
    "    nearest_bus_stations_bf = building_pointcloud.k_nearest_neighbour_bf(bus_station_pointcloud)\n",
    "    \n",
    "with Timer(\"Execution time buildings and bus-stations, kd-tree:\"):\n",
    "    nearest_bus_station_knn = building_pointcloud.k_nearest_neighbour_kdtree(bus_station_pointcloud)"
   ]
  },
  {
   "cell_type": "code",
   "execution_count": null,
   "metadata": {},
   "outputs": [],
   "source": [
    "assert nearest_bus_station_knn == nearest_bus_stations_bf"
   ]
  },
  {
   "cell_type": "code",
   "execution_count": null,
   "metadata": {},
   "outputs": [],
   "source": [
    "# for plotting compute center of all buildings and bus-stops\n",
    "center_x = min(building_centroids[:,0].min(), bus_station_points[:,0].min() ) + max(building_centroids[:,0].max(), bus_station_points[:,0].min())\n",
    "center_y = min(building_centroids[:,1].min(), bus_station_points[:,1].min() ) + max(building_centroids[:,1].max(), bus_station_points[:,1].min())\n",
    "center_x /= 2\n",
    "center_y /= 2\n",
    "\n",
    "# bounds of the plot\n",
    "xmin = center_x\n",
    "xmax = center_x + 500\n",
    "ymin = center_y\n",
    "ymax = center_y + 500\n",
    "\n",
    "# bounds of the features, they are larger as the plot bounds\n",
    "# because otherwise not all points will be connected\n",
    "xmin_filter = xmin - 100\n",
    "xmax_filter = xmax + 100\n",
    "ymin_filter = ymin - 100\n",
    "ymax_filter = ymax + 100\n",
    "\n",
    "# filter out the shapes that are not inside the shape bounding box\n",
    "# rendering takes to long if I skip this\n",
    "filtered_building_centroids = gpd.GeoSeries([shapely_geom.Point(i) for i in building_centroids]).cx[xmin_filter:xmax_filter,ymin_filter:ymax_filter]\n",
    "filtered_bus_stations = gpd.GeoSeries([shapely_geom.Point(i) for i in bus_station_points]).cx[xmin_filter:xmax_filter,ymin_filter:ymax_filter]\n",
    "filtered_building_polygons = building_gdf_new_reprojected.cx[xmin_filter:xmax_filter,ymin_filter:ymax_filter]\n",
    "\n",
    "filtered_connections = gpd.GeoSeries([shapely_geom.LineString([[p1.x,p1.y],[p2.x,p2.y]]) for (p1,p2) in zip(building_pointcloud, nearest_bus_station_knn)])\n",
    "filtered_connections = filtered_connections.cx[xmin_filter:xmax_filter,ymin_filter:ymax_filter]\n",
    "\n",
    "# plot the results\n",
    "fig, ax = plt.subplots(figsize=(9,9))\n",
    "ax.axis('equal')\n",
    "filtered_building_polygons.plot(ax=ax,color=\"#3CA2F0\",alpha=0.6,zorder=0,label=\"Buildings\")\n",
    "filtered_connections.plot(ax=ax,color=\"black\",linewidth=1,zorder=1,alpha=0.8,label=\"Line to nearest bus-station\")\n",
    "filtered_building_centroids.plot(ax=ax,color=\"#FC3932\",zorder=2, label=\"Building-Centroids\")\n",
    "filtered_bus_stations.plot(ax=ax,color=\"#2BD964\",markersize=100,zorder=3, label=\"Bus-Station\")\n",
    "ax.set_facecolor(\"#FAFADD\")\n",
    "ax.set_xlim(xmin,xmax)\n",
    "ax.set_ylim(ymin,ymax)\n",
    "ax.set_title(\"K-Nearest Neighbours for the Buildings and Bus-Stations\")\n",
    "plt.legend()\n",
    "plt.show()"
   ]
  },
  {
   "cell_type": "code",
   "execution_count": null,
   "metadata": {},
   "outputs": [],
   "source": [
    "graz_polygon = mygeom.Polygon.from_wkt(test_polygons.graz_polygon())\n",
    "clip_polygon_1 = mygeom.Polygon.from_wkt(test_polygons.clip_polygon_1())\n",
    "clip_polygon_2= mygeom.Polygon.from_wkt(test_polygons.clip_polygon_2())\n",
    "clip_polygon_3 = mygeom.Polygon.from_wkt(test_polygons.clip_polygon_3())\n",
    "clip_polygon_4 = mygeom.Polygon.from_wkt(test_polygons.clip_polygon_4())"
   ]
  },
  {
   "cell_type": "code",
   "execution_count": null,
   "metadata": {},
   "outputs": [],
   "source": [
    "from importlib import reload\n",
    "reload(mygeom)\n",
    "with Timer(\"Exec. Time 'clip_polygon_1': \"):\n",
    "    clip_out_1 = clip_polygon_1.weiler_atherton(graz_polygon)\n",
    "with Timer(\"Exec. Time 'clip_polygon_2': \"):\n",
    "    clip_out_2 = clip_polygon_2.weiler_atherton(graz_polygon)\n",
    "with Timer(\"Exec. Time 'clip_polygon_3': \"):\n",
    "    clip_out_3 = clip_polygon_3.weiler_atherton(graz_polygon)\n",
    "with Timer(\"Exec. Time 'clip_polygon_4': \"):\n",
    "    clip_out_4 = clip_polygon_4.weiler_atherton(graz_polygon)\n"
   ]
  },
  {
   "cell_type": "code",
   "execution_count": null,
   "metadata": {},
   "outputs": [],
   "source": [
    "fig, axs = plt.subplots(2,2, figsize=(16,16))\n",
    "axs = axs.ravel()\n",
    "clip_polgons = [clip_polygon_1,clip_polygon_2, clip_polygon_3, clip_polygon_4]\n",
    "clipped_polygons = [clip_out_1, clip_out_2, clip_out_3, clip_out_4]\n",
    "[ax.axis(\"equal\") for ax in axs]\n",
    "[ax.plot(*graz_polygon.xy, c=\"blue\", label=\"Subject\") for ax in axs]\n",
    "[ax.plot(*clip_poly.xy, c=\"red\", label=\"Clip\") for ax,clip_poly in zip(axs,clip_polgons)]\n",
    "[ax.plot(*out_poly.xy, c=\"green\", label=\"Result\") for ax,out_poly in zip(axs,clipped_polygons)]\n",
    "[ax.legend() for ax in axs]\n",
    "plt.show()"
   ]
  },
  {
   "cell_type": "code",
   "execution_count": null,
   "metadata": {},
   "outputs": [],
   "source": [
    "\n",
    "p1 = mygeom.Point([0, 0])\n",
    "p2 = mygeom.Point([0, 1])\n",
    "p3 = mygeom.Point([1, 1])\n",
    "p4 = mygeom.Point([1, 0])\n",
    "polygon = mygeom.Polygon([p1, p2, p3, p4, p1])"
   ]
  },
  {
   "cell_type": "code",
   "execution_count": null,
   "metadata": {},
   "outputs": [],
   "source": [
    "with Timer(\"\"):\n",
    "    p1_in = polygon.point_in_polygon(mygeom.Point((2,2)))\n",
    "\n",
    "with Timer(\"\"):\n",
    "    p2_in = polygon.point_in_polygon(mygeom.Point((0.5,0.5)))\n",
    "\n",
    "with Timer(\"\"):\n",
    "    p3_in = polygon.point_in_polygon(mygeom.Point((-2,0.5)))\n",
    "\n",
    "\n",
    "print(f\"\\np1_in:{p1_in}, p2_in: {p2_in}, p3_in: {p3_in}\")"
   ]
  },
  {
   "cell_type": "code",
   "execution_count": null,
   "metadata": {},
   "outputs": [],
   "source": [
    "p1 = mygeom.Point3D((0,0,0))\n",
    "p2 = mygeom.Point3D((1,0,0))\n",
    "p3 = mygeom.Point3D((0,1,0))\n",
    "p4 = mygeom.Point3D((0,0,1))\n",
    "polyhedra = mygeom.Polyhedra([p1,p2,p3,p4])\n",
    "\n",
    "with Timer(\"PiP using Scipy.Delauney: \"):\n",
    "    p1_in = polyhedra.point_in_polyhedra(mygeom.Point3D([2,2,2]))\n",
    "\n",
    "with Timer(\"PiP using Scipy.Delauney: \"):\n",
    "    p2_in = polyhedra.point_in_polyhedra(mygeom.Point3D([0.1,0.3,0.6]))\n",
    "\n",
    "print(f\"p1_in: {p1_in}, p2_in: {p2_in}\")"
   ]
  },
  {
   "cell_type": "code",
   "execution_count": null,
   "metadata": {},
   "outputs": [],
   "source": [
    "try:\n",
    "    print(\"Loading Graph from file\")\n",
    "    G= nx.read_gpickle(\"graph_austria.pkl\")\n",
    "except FileNotFoundError:\n",
    "    print(\"Download Graph from OSM\")\n",
    "    G = ox.graph_from_place(\"Austria\", network_type=\"drive\")\n",
    "    nx.write_gpickle(G,\"graph_austria.pkl\")\n"
   ]
  },
  {
   "cell_type": "code",
   "execution_count": null,
   "metadata": {},
   "outputs": [],
   "source": [
    "G = ox.add_edge_speeds(G)\n",
    "G = ox.add_edge_travel_times(G)\n",
    "Gp = ox.project_graph(G)"
   ]
  },
  {
   "cell_type": "code",
   "execution_count": null,
   "metadata": {},
   "outputs": [],
   "source": [
    "orig, dest = np.random.choice(Gp.nodes,2,replace=False)\n",
    "route = ox.shortest_path(G, orig, dest, weight=\"length\")"
   ]
  },
  {
   "cell_type": "code",
   "execution_count": null,
   "metadata": {},
   "outputs": [],
   "source": [
    "fig, ax = ox.plot_graph_route(G, route, route_color=\"y\", route_linewidth=6, node_size=0,figsize=(16,9))"
   ]
  },
  {
   "cell_type": "code",
   "execution_count": null,
   "metadata": {},
   "outputs": [],
   "source": [
    "from networkx.algorithms.dag import transitive_closure"
   ]
  }
 ],
 "metadata": {
  "interpreter": {
   "hash": "b020794d636d3771709f802a824db29469d66fd47fb0d6e7568db3b064a76fa2"
  },
  "kernelspec": {
   "display_name": "Python 3.6.13 ('geo')",
   "language": "python",
   "name": "python3"
  },
  "language_info": {
   "codemirror_mode": {
    "name": "ipython",
    "version": 3
   },
   "file_extension": ".py",
   "mimetype": "text/x-python",
   "name": "python",
   "nbconvert_exporter": "python",
   "pygments_lexer": "ipython3",
   "version": "3.6.13"
  },
  "orig_nbformat": 4
 },
 "nbformat": 4,
 "nbformat_minor": 2
}
